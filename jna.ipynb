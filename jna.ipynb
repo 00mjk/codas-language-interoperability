{
 "cells": [
  {
   "cell_type": "markdown",
   "metadata": {
    "slideshow": {
     "slide_type": "slide"
    }
   },
   "source": [
    "## Calling C functions from the JVM\n",
    "\n",
    "Unlike ctypes, [Java Native Access (JNA)](https://github.com/java-native-access/jna) is a library to be imported. Despite the name, it is not maintained by Oracle (which bought Sun years ago).\n",
    "\n",
    "Get the library from the Maven Central Repository."
   ]
  },
  {
   "cell_type": "code",
   "execution_count": null,
   "metadata": {
    "scrolled": true,
    "slideshow": {
     "slide_type": "-"
    }
   },
   "outputs": [],
   "source": [
    "import $ivy.`com.sun.jna:jna:3.0.9`"
   ]
  },
  {
   "cell_type": "code",
   "execution_count": null,
   "metadata": {
    "slideshow": {
     "slide_type": "slide"
    }
   },
   "outputs": [],
   "source": [
    "import com.sun.jna.Library\n",
    "import com.sun.jna.Native\n",
    "import com.sun.jna.Pointer"
   ]
  },
  {
   "cell_type": "code",
   "execution_count": null,
   "metadata": {
    "slideshow": {
     "slide_type": "-"
    }
   },
   "outputs": [],
   "source": [
    "object LibC {\n",
    "    val INSTANCE = Native.loadLibrary(\"libc.so.6\", classOf[LibC]).asInstanceOf[LibC]\n",
    "}\n",
    "trait LibC extends Library {\n",
    "    def time(reuse: Pointer): Long\n",
    "}"
   ]
  },
  {
   "cell_type": "code",
   "execution_count": null,
   "metadata": {
    "slideshow": {
     "slide_type": "-"
    }
   },
   "outputs": [],
   "source": [
    "LibC.INSTANCE.time(null)"
   ]
  }
 ],
 "metadata": {
  "celltoolbar": "Slideshow",
  "kernelspec": {
   "display_name": "Scala",
   "language": "scala",
   "name": "scala"
  },
  "language_info": {
   "codemirror_mode": "text/x-scala",
   "file_extension": ".scala",
   "mimetype": "text/x-scala",
   "name": "scala211",
   "nbconvert_exporter": "script",
   "pygments_lexer": "scala",
   "version": "2.11.11"
  }
 },
 "nbformat": 4,
 "nbformat_minor": 1
}
