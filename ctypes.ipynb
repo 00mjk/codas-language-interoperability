{
 "cells": [
  {
   "cell_type": "markdown",
   "metadata": {
    "slideshow": {
     "slide_type": "slide"
    }
   },
   "source": [
    "## Calling C functions from Python"
   ]
  },
  {
   "cell_type": "code",
   "execution_count": null,
   "metadata": {
    "collapsed": true,
    "slideshow": {
     "slide_type": "-"
    }
   },
   "outputs": [],
   "source": [
    "import ctypes"
   ]
  },
  {
   "cell_type": "markdown",
   "metadata": {
    "slideshow": {
     "slide_type": "fragment"
    }
   },
   "source": [
    "Here's a library everybody has:"
   ]
  },
  {
   "cell_type": "code",
   "execution_count": null,
   "metadata": {
    "collapsed": true,
    "slideshow": {
     "slide_type": "-"
    }
   },
   "outputs": [],
   "source": [
    "libc = ctypes.cdll.LoadLibrary(\"libc.so.6\")"
   ]
  },
  {
   "cell_type": "markdown",
   "metadata": {
    "slideshow": {
     "slide_type": "slide"
    }
   },
   "source": [
    "And here's a function call in it. The `None` is passing NULL as the first argument, since we don't want to reuse a `time_t` integer.\n",
    "\n",
    "```c\n",
    "time_t     time(time_t *);\n",
    "```"
   ]
  },
  {
   "cell_type": "code",
   "execution_count": null,
   "metadata": {
    "slideshow": {
     "slide_type": "-"
    }
   },
   "outputs": [],
   "source": [
    "libc.time(None)"
   ]
  },
  {
   "cell_type": "markdown",
   "metadata": {
    "slideshow": {
     "slide_type": "fragment"
    }
   },
   "source": [
    "It's where Python gets the decimal part of its `time.time()` from."
   ]
  },
  {
   "cell_type": "code",
   "execution_count": null,
   "metadata": {
    "slideshow": {
     "slide_type": "-"
    }
   },
   "outputs": [],
   "source": [
    "import time\n",
    "libc.time(None), time.time()"
   ]
  },
  {
   "cell_type": "markdown",
   "metadata": {
    "slideshow": {
     "slide_type": "slide"
    }
   },
   "source": [
    "Here's a challenge: where does this text go?\n",
    "\n",
    "```c\n",
    "int     printf(const char * format, ...);\n",
    "```"
   ]
  },
  {
   "cell_type": "code",
   "execution_count": null,
   "metadata": {
    "slideshow": {
     "slide_type": "-"
    }
   },
   "outputs": [],
   "source": [
    "libc.printf(\"Hello from C!\\n\")"
   ]
  },
  {
   "cell_type": "markdown",
   "metadata": {
    "slideshow": {
     "slide_type": "skip"
    }
   },
   "source": [
    "Some Python types are automatically converted into the correct C type, but if unsure, wrap with a `ctypes` type.\n",
    "\n",
    "| ctypes type | C type | Python type |\n",
    "|:------------|:-------|:------------|\n",
    "| `c_bool` | `_Bool` | `bool` |\n",
    "| `c_char` | `char` | `1-character string` |\n",
    "| `c_wchar` | `wchar_t` | `1-character unicode string` |\n",
    "| `c_byte` | `char` | `int/long` |\n",
    "| `c_ubyte` | `unsigned char` | `int/long` |\n",
    "| `c_short` | `short` | `int/long` |\n",
    "| `c_ushort` | `unsigned short` | `int/long` |\n",
    "| `c_int` | `int` | `int/long` |\n",
    "| `c_uint` | `unsigned int` | `int/long` |\n",
    "| `c_long` | `long` | `int/long` |\n",
    "| `c_ulong` | `unsigned long` | `int/long` |\n",
    "| `c_longlong` | `__int64` | `int/long` |\n",
    "| `c_ulonglong` | `unsigned __int64` | `int/long` |\n",
    "| `c_float` | `float` | `float` |\n",
    "| `c_double` | `double` | `float` |\n",
    "| `c_longdouble` | `long double` | `float` |\n",
    "| `c_char_p` | `char*` (NULL terminated) | `string` or `None` |\n",
    "| `c_wchar_p` | `wchar_t*` (NULL terminated) | `unicode` or `None` |\n",
    "| `c_void_p` | `void*` | `int/long` or `None` |"
   ]
  },
  {
   "cell_type": "code",
   "execution_count": null,
   "metadata": {
    "slideshow": {
     "slide_type": "fragment"
    }
   },
   "outputs": [],
   "source": [
    "libc.printf(\"one %d two %g three %s\\n\",\n",
    "            ctypes.c_int(1),\n",
    "            ctypes.c_double(2.2),\n",
    "            ctypes.c_char_p(\"THREE\"))"
   ]
  },
  {
   "cell_type": "markdown",
   "metadata": {
    "slideshow": {
     "slide_type": "fragment"
    }
   },
   "source": [
    "**Okay: not fair.** The answer is that the text gets printed out in the terminal where Jupyter is running. If you were running this on your laptop (my original intention), you'd see it in the terminal that's running Jupyter. But now that it's running in AWS and you're not even ssh'ed into AWS, you'll never see it."
   ]
  },
  {
   "cell_type": "markdown",
   "metadata": {
    "slideshow": {
     "slide_type": "slide"
    }
   },
   "source": [
    "## Calling Python from C\n",
    "\n",
    "The [GNU Scientific Library (GSL)](https://www.gnu.org/software/gsl/) is a large mathematical library."
   ]
  },
  {
   "cell_type": "code",
   "execution_count": null,
   "metadata": {
    "slideshow": {
     "slide_type": "-"
    }
   },
   "outputs": [],
   "source": [
    "gslcblas = ctypes.CDLL(\"libgslcblas.so\", mode=ctypes.RTLD_GLOBAL)\n",
    "gsl = ctypes.CDLL(\"libgsl.so\")"
   ]
  },
  {
   "cell_type": "markdown",
   "metadata": {
    "slideshow": {
     "slide_type": "slide"
    }
   },
   "source": [
    "Many of its functions take functions as arguments (numerical differentiation, integration, root finding, ...), so it has a common interface for function arguments.\n",
    "\n",
    "```c\n",
    "struct gsl_function {\n",
    "    double (* function) (double x, void * params);\n",
    "    void * params;  };\n",
    "```\n",
    "\n",
    "We can make this structure in ctypes because it has methods for\n",
    "   * function types (`ctypes.CFUNCTYPE(rettype, argtypes...)`)\n",
    "   * pointers (`ctypes.POINTER(type)`)\n",
    "   * structs (`ctypes.Structure` with a `_fields_` member)\n",
    "\n",
    "Just be aware that these ctypes functions make _type_ objects, which then have to be called to make _objects._ You'll often do `something(typeargs)(objectargs)`.\n",
    "\n",
    "See the [documentation](https://docs.python.org/2/library/ctypes.html) for the full story."
   ]
  },
  {
   "cell_type": "code",
   "execution_count": null,
   "metadata": {
    "collapsed": true,
    "slideshow": {
     "slide_type": "slide"
    }
   },
   "outputs": [],
   "source": [
    "# my function\n",
    "def f(x, params):\n",
    "    out = 3.0*x**2 + 2.0*x + 1.0\n",
    "    print \"f({0}) = {1}\".format(x, out)\n",
    "    return out\n",
    "\n",
    "# callback with the appropriate signature\n",
    "func_type = ctypes.CFUNCTYPE(ctypes.c_double, ctypes.c_double, ctypes.POINTER(None))\n",
    "\n",
    "# wrapped up in the struct that GSL expects\n",
    "class gsl_function(ctypes.Structure):\n",
    "    _fields_ = [(\"f\", func_type),\n",
    "                (\"params\", ctypes.POINTER(None))]\n",
    "\n",
    "# finally, make the object\n",
    "callback = gsl_function(func_type(f), 0)"
   ]
  },
  {
   "cell_type": "code",
   "execution_count": null,
   "metadata": {
    "collapsed": true,
    "slideshow": {
     "slide_type": "slide"
    }
   },
   "outputs": [],
   "source": [
    "result = ctypes.c_double(-1.0);\n",
    "abserr = ctypes.c_double(-1.0);\n",
    "\n",
    "p_result = ctypes.POINTER(ctypes.c_double)(result)\n",
    "p_abserr = ctypes.POINTER(ctypes.c_double)(abserr)"
   ]
  },
  {
   "cell_type": "code",
   "execution_count": null,
   "metadata": {
    "slideshow": {
     "slide_type": "-"
    }
   },
   "outputs": [],
   "source": [
    "gsl.gsl_deriv_central(ctypes.POINTER(gsl_function)(callback), ctypes.c_double(2.0), ctypes.c_double(1e-8), p_result, p_abserr)"
   ]
  },
  {
   "cell_type": "code",
   "execution_count": null,
   "metadata": {
    "slideshow": {
     "slide_type": "-"
    }
   },
   "outputs": [],
   "source": [
    "p_result[0], p_abserr[0]"
   ]
  },
  {
   "cell_type": "markdown",
   "metadata": {
    "slideshow": {
     "slide_type": "slide"
    }
   },
   "source": [
    "## The snake eats its own tail\n",
    "\n",
    "On Monday, I added functional methods to the `list` and `generator` types. Usually, you can't add methods to Python builtin types. To make it work, we can use ctypes to alter Python's own C code."
   ]
  },
  {
   "cell_type": "code",
   "execution_count": null,
   "metadata": {
    "collapsed": true,
    "slideshow": {
     "slide_type": "slide"
    }
   },
   "outputs": [],
   "source": [
    "if hasattr(ctypes.pythonapi, \"Py_InitModule4_64\"):\n",
    "    Py_ssize_t = ctypes.c_int64   # modern versions of Python 2 use 64-bit ints almost everywhere\n",
    "else:\n",
    "    Py_ssize_t = ctypes.c_int     # very old versions of Python used plain C ints\n",
    "\n",
    "class PyObject(ctypes.Structure): pass\n",
    "PyObject._fields_ = [(\"ob_refcnt\", Py_ssize_t),\n",
    "                     (\"ob_type\", ctypes.POINTER(PyObject))]"
   ]
  },
  {
   "cell_type": "markdown",
   "metadata": {
    "slideshow": {
     "slide_type": "-"
    }
   },
   "source": [
    "This \"PyObject\" represents the C struct called \"PyObject\" in the C API. All Python objects have the following C struct head:\n",
    "\n",
    "```c\n",
    "struct PyObject {\n",
    "    Py_size_t ob_refcnt;     // number of references (for GC)\n",
    "    PyObject *ob_type;       // the object's type (always a\n",
    "};                           // runtime thing in Python)\n",
    "```"
   ]
  },
  {
   "cell_type": "code",
   "execution_count": null,
   "metadata": {
    "collapsed": true,
    "slideshow": {
     "slide_type": "slide"
    }
   },
   "outputs": [],
   "source": [
    "class SlotsPointer(PyObject):\n",
    "    _fields_ = [(\"dict\", ctypes.POINTER(PyObject))]\n",
    "\n",
    "def proxy_builtin(cls):\n",
    "    name = cls.__name__\n",
    "    slots = getattr(cls, \"__dict__\", name)\n",
    "\n",
    "    pointer = SlotsPointer.from_address(id(slots))\n",
    "    namespace = {}\n",
    "\n",
    "    ctypes.pythonapi.PyDict_SetItem(\n",
    "        ctypes.py_object(namespace),\n",
    "        ctypes.py_object(name),\n",
    "        pointer.dict\n",
    "    )\n",
    "\n",
    "    return namespace[name]"
   ]
  },
  {
   "cell_type": "code",
   "execution_count": null,
   "metadata": {
    "slideshow": {
     "slide_type": "slide"
    }
   },
   "outputs": [],
   "source": [
    "# don't call this twice (you'll crash the interpreter)\n",
    "\n",
    "def do_crazy_things(lst):\n",
    "    print \"crazy {0}\".format(lst)\n",
    "\n",
    "proxy_builtin(list)[\"crazy\"] = property(do_crazy_things)\n",
    "hasattr([], \"crazy\")"
   ]
  },
  {
   "cell_type": "code",
   "execution_count": null,
   "metadata": {
    "slideshow": {
     "slide_type": "-"
    }
   },
   "outputs": [],
   "source": [
    "[1, 2, 3, 4, 5].crazy"
   ]
  }
 ],
 "metadata": {
  "celltoolbar": "Slideshow",
  "kernelspec": {
   "display_name": "Python 2",
   "language": "python",
   "name": "python2"
  },
  "language_info": {
   "codemirror_mode": {
    "name": "ipython",
    "version": 2
   },
   "file_extension": ".py",
   "mimetype": "text/x-python",
   "name": "python",
   "nbconvert_exporter": "python",
   "pygments_lexer": "ipython2",
   "version": "2.7.13"
  }
 },
 "nbformat": 4,
 "nbformat_minor": 1
}
