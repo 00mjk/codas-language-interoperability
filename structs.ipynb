{
 "cells": [
  {
   "cell_type": "markdown",
   "metadata": {
    "slideshow": {
     "slide_type": "slide"
    }
   },
   "source": [
    "## Dealing with C structs in Python\n",
    "\n",
    "Python has a builtin library for reading byte streams into and out of Python objects."
   ]
  },
  {
   "cell_type": "code",
   "execution_count": null,
   "metadata": {
    "collapsed": true,
    "slideshow": {
     "slide_type": "-"
    }
   },
   "outputs": [],
   "source": [
    "import struct"
   ]
  },
  {
   "cell_type": "code",
   "execution_count": null,
   "metadata": {
    "slideshow": {
     "slide_type": "-"
    }
   },
   "outputs": [],
   "source": [
    "data = struct.pack(\"id5s\", 1, 2.2, \"THREE\")\n",
    "print data\n",
    "print map(ord, data)"
   ]
  },
  {
   "cell_type": "code",
   "execution_count": null,
   "metadata": {
    "slideshow": {
     "slide_type": "fragment"
    }
   },
   "outputs": [],
   "source": [
    "struct.unpack(\"id5s\", data)"
   ]
  },
  {
   "cell_type": "markdown",
   "metadata": {
    "slideshow": {
     "slide_type": "skip"
    }
   },
   "source": [
    "| Format | C Type | Python type | Standard size |\n",
    "|:-------|:-------|:------------|:--------------|\n",
    "| x | pad byte | no value | 1 |\n",
    "| c | `char` | string of length 1 | 1 |\n",
    "| b | `signed char` | `int` | 1 |\n",
    "| B | `unsigned char` | `int` | 1 |\n",
    "| ? | `_Bool` | `bool` | 1 |\n",
    "| h | `short` | `int` | 2 |\n",
    "| H | `unsigned short` | `int` | 2 |\n",
    "| i | `int` | `int` | 4 |\n",
    "| I | `unsigned int` | `int` | 4 |\n",
    "| l | `long` | `int` | 4 |\n",
    "| L | `unsigned long` | `int` | 4 |\n",
    "| q | `long long` | `int` | 8 |\n",
    "| Q | `unsigned long long` | `int` | 8 |\n",
    "| f | `float` | `float` | 4 |\n",
    "| d | `double` | `float` | 8 |\n",
    "| s | `char[]` | `string` | |\n",
    "| p | `char[]` | `string` | |\n",
    "| P | `void *` | `int` | |\n"
   ]
  },
  {
   "cell_type": "markdown",
   "metadata": {
    "slideshow": {
     "slide_type": "slide"
    }
   },
   "source": [
    "While this is fine for occasional things, like file headers or a couple of network packets, it's not an efficient way of viewing a large number of structs, such as an array of structs.\n",
    "\n",
    "For that, there's Numpy (naturally).\n",
    "\n",
    "Numpy has a [record array](https://docs.scipy.org/doc/numpy/user/basics.rec.html) type that is formed by passing it a multi-valued dtype."
   ]
  },
  {
   "cell_type": "code",
   "execution_count": null,
   "metadata": {
    "collapsed": true,
    "slideshow": {
     "slide_type": "-"
    }
   },
   "outputs": [],
   "source": [
    "import numpy\n",
    "array = numpy.empty(100, dtype=[(\"one\", numpy.int32),\n",
    "                                (\"two\", numpy.float64),\n",
    "                                (\"three\", \"|S5\")])"
   ]
  },
  {
   "cell_type": "code",
   "execution_count": null,
   "metadata": {
    "collapsed": true,
    "slideshow": {
     "slide_type": "slide"
    }
   },
   "outputs": [],
   "source": [
    "array[\"one\"][0] = 1\n",
    "array[\"two\"][0] = 2.2\n",
    "array[\"three\"][0] = \"THREE\""
   ]
  },
  {
   "cell_type": "code",
   "execution_count": null,
   "metadata": {
    "slideshow": {
     "slide_type": "-"
    }
   },
   "outputs": [],
   "source": [
    "array[0]"
   ]
  },
  {
   "cell_type": "code",
   "execution_count": null,
   "metadata": {
    "slideshow": {
     "slide_type": "fragment"
    }
   },
   "outputs": [],
   "source": [
    "array.view(\"S1\")[: 4 + 8 + 5]"
   ]
  },
  {
   "cell_type": "markdown",
   "metadata": {
    "slideshow": {
     "slide_type": "slide"
    }
   },
   "source": [
    "Note that these bytes are packed more tightly than what `struct.pack` gave us. `struct.pack` is following C's rules for data padding. We can get the same behavior by explicitly asking for alignment in the dtype."
   ]
  },
  {
   "cell_type": "code",
   "execution_count": null,
   "metadata": {
    "slideshow": {
     "slide_type": "fragment"
    }
   },
   "outputs": [],
   "source": [
    "array = numpy.empty(100, dtype=numpy.dtype(\n",
    "    [(\"one\", numpy.int32),\n",
    "     (\"two\", numpy.float64),\n",
    "     (\"three\", \"|S5\")], align=True))\n",
    "\n",
    "array[\"one\"][0] = 1\n",
    "array[\"two\"][0] = 2.2\n",
    "array[\"three\"][0] = \"THREE\"\n",
    "\n",
    "array.view(\"S1\")[:len(data)]"
   ]
  },
  {
   "cell_type": "markdown",
   "metadata": {
    "slideshow": {
     "slide_type": "fragment"
    }
   },
   "source": [
    "In fact, the offset of each field in the record array can be individually set."
   ]
  }
 ],
 "metadata": {
  "celltoolbar": "Slideshow",
  "kernelspec": {
   "display_name": "Python 2",
   "language": "python",
   "name": "python2"
  },
  "language_info": {
   "codemirror_mode": {
    "name": "ipython",
    "version": 2
   },
   "file_extension": ".py",
   "mimetype": "text/x-python",
   "name": "python",
   "nbconvert_exporter": "python",
   "pygments_lexer": "ipython2",
   "version": "2.7.13"
  }
 },
 "nbformat": 4,
 "nbformat_minor": 1
}
