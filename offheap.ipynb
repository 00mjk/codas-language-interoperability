{
 "cells": [
  {
   "cell_type": "markdown",
   "metadata": {
    "slideshow": {
     "slide_type": "slide"
    }
   },
   "source": [
    "## Off-heap Java memory\n",
    "\n",
    "In the Java world, \"off-heap\" means data that the Java garbage collector doesn't know about and can't manage. It is the only way to get stable pointers to any data, since the garbage collector is generational (copying long-lived items to less frequently checked buffers, as an optimization).\n",
    "\n",
    "The standard library has a set of functions for dealing with off-heap memory because it improves performance. It was _supposed_ to be blocked from ordinary users like us. The class, encouragingly named \"`sun.misc.Unsafe`\", has a singleton field named \"`theUnsafe\"` that is declared private, so we can't access it directly:"
   ]
  },
  {
   "cell_type": "code",
   "execution_count": null,
   "metadata": {
    "scrolled": true,
    "slideshow": {
     "slide_type": "-"
    }
   },
   "outputs": [],
   "source": [
    "sun.misc.Unsafe.theUnsafe"
   ]
  },
  {
   "cell_type": "markdown",
   "metadata": {
    "slideshow": {
     "slide_type": "slide"
    }
   },
   "source": [
    "There's also a public getter method that checks to see if we're a library function. We're not, so that's a `SecurityException`."
   ]
  },
  {
   "cell_type": "code",
   "execution_count": null,
   "metadata": {
    "slideshow": {
     "slide_type": "-"
    }
   },
   "outputs": [],
   "source": [
    "sun.misc.Unsafe.getUnsafe"
   ]
  },
  {
   "cell_type": "markdown",
   "metadata": {
    "slideshow": {
     "slide_type": "slide"
    }
   },
   "source": [
    "But there's a sneaky way. Java reflection makes it possible to change the \"private\" modifier on class fields, which we can then use to get at the hidden object."
   ]
  },
  {
   "cell_type": "code",
   "execution_count": null,
   "metadata": {
    "slideshow": {
     "slide_type": "-"
    }
   },
   "outputs": [],
   "source": [
    "val privateField = classOf[sun.misc.Unsafe].getDeclaredField(\"theUnsafe\")\n",
    "privateField.setAccessible(true)\n",
    "val unsafe = privateField.get(null).asInstanceOf[sun.misc.Unsafe]"
   ]
  },
  {
   "cell_type": "markdown",
   "metadata": {
    "slideshow": {
     "slide_type": "slide"
    }
   },
   "source": [
    "Heh, heh, heh! We have nefariously gained the ability to \"malloc.\""
   ]
  },
  {
   "cell_type": "code",
   "execution_count": null,
   "metadata": {
    "slideshow": {
     "slide_type": "-"
    }
   },
   "outputs": [],
   "source": [
    "val ptr = unsafe.allocateMemory(4096)"
   ]
  },
  {
   "cell_type": "markdown",
   "metadata": {
    "slideshow": {
     "slide_type": "fragment"
    }
   },
   "source": [
    "Yes, it's just a long integer. It really is unsafe."
   ]
  },
  {
   "cell_type": "code",
   "execution_count": null,
   "metadata": {
    "slideshow": {
     "slide_type": "-"
    }
   },
   "outputs": [],
   "source": [
    "unsafe.getByte(ptr)"
   ]
  },
  {
   "cell_type": "markdown",
   "metadata": {
    "slideshow": {
     "slide_type": "slide"
    }
   },
   "source": [
    "Although this technique looks like (okay, _is_) a hack, it is now a well-established hack. Many important libraries, such as Spark, heavily rely upon it. Since it's a glitch in the specification, not the implementation, Sun/Oracle has to live with the consequences."
   ]
  },
  {
   "cell_type": "markdown",
   "metadata": {
    "slideshow": {
     "slide_type": "-"
    }
   },
   "source": [
    "From [this list of functions](http://www.docjar.com/docs/api/sun/misc/Unsafe.html), we see that we can set bytes, get integers, etc. as well as \"`copyMemory`\" (memcpy) and \"`freeMemory`\" (free).\n",
    "\n",
    "See, for example, [this blog](http://mishadoff.com/blog/java-magic-part-4-sun-dot-misc-dot-unsafe/) and others for a guide to this magical class."
   ]
  },
  {
   "cell_type": "code",
   "execution_count": null,
   "metadata": {
    "collapsed": true,
    "slideshow": {
     "slide_type": "slide"
    }
   },
   "outputs": [],
   "source": [
    "unsafe.putByte(ptr + 0, 0)\n",
    "unsafe.putByte(ptr + 1, 1)\n",
    "unsafe.putByte(ptr + 2, 0)\n",
    "unsafe.putByte(ptr + 3, 0)"
   ]
  },
  {
   "cell_type": "code",
   "execution_count": null,
   "metadata": {
    "slideshow": {
     "slide_type": "-"
    }
   },
   "outputs": [],
   "source": [
    "unsafe.getInt(ptr)"
   ]
  },
  {
   "cell_type": "markdown",
   "metadata": {
    "slideshow": {
     "slide_type": "fragment"
    }
   },
   "source": [
    "Did you notice that that's little endian? According to the specification, the JVM is big-endian, but that only covers how Java's public functions interact with externals. This unsafe class shows us that it's internally little endian, which is a reasonable choice for performance."
   ]
  },
  {
   "cell_type": "markdown",
   "metadata": {
    "slideshow": {
     "slide_type": "slide"
    }
   },
   "source": [
    "Java also doesn't have any unsigned integers, which makes it awkward to deal with file formats. You have to do the bit twiddling yourself:"
   ]
  },
  {
   "cell_type": "code",
   "execution_count": null,
   "metadata": {
    "slideshow": {
     "slide_type": "-"
    }
   },
   "outputs": [],
   "source": [
    "def castSignedAsUnsigned(x: Int) = x match {\n",
    "    case x if x < 0 => x.toLong + (1L << 32)\n",
    "    case x => x\n",
    "}\n",
    "\n",
    "def castUnsignedAsSigned(x: Long) = x match {\n",
    "    case x if x > (1L << 32) => throw new Exception(\"too big\")\n",
    "    case x if (x & (1L << 32)) != 0 => -(x & ~(1L << 32)).toInt\n",
    "    case x => x.toInt\n",
    "}"
   ]
  },
  {
   "cell_type": "code",
   "execution_count": null,
   "metadata": {
    "slideshow": {
     "slide_type": "slide"
    }
   },
   "outputs": [],
   "source": [
    "castUnsignedAsSigned(3000000000L)\n",
    "castSignedAsUnsigned(castUnsignedAsSigned(3000000000L))"
   ]
  },
  {
   "cell_type": "code",
   "execution_count": null,
   "metadata": {
    "slideshow": {
     "slide_type": "fragment"
    }
   },
   "outputs": [],
   "source": [
    "castSignedAsUnsigned(-123)\n",
    "castUnsignedAsSigned(castSignedAsUnsigned(-123))"
   ]
  },
  {
   "cell_type": "code",
   "execution_count": null,
   "metadata": {
    "slideshow": {
     "slide_type": "fragment"
    }
   },
   "outputs": [],
   "source": [
    "unsafe.putInt(ptr, castUnsignedAsSigned(3000000000L))\n",
    "castSignedAsUnsigned(unsafe.getInt(ptr))"
   ]
  },
  {
   "cell_type": "markdown",
   "metadata": {
    "slideshow": {
     "slide_type": "slide"
    }
   },
   "source": [
    "One thing to note: that `ptr` is just a long integer: it could point anywhere. Just as with the Numpy examples, we can wrap other libraries' data and view or manipulate them. We just need to be careful about ownership rules.\n",
    "\n",
    "Unlike Numpy, which has ownership built into the `ndarray` that wraps the memory, you have to `Unsafe.freeMemory` your allocations by hand."
   ]
  }
 ],
 "metadata": {
  "celltoolbar": "Slideshow",
  "kernelspec": {
   "display_name": "Scala",
   "language": "scala",
   "name": "scala"
  },
  "language_info": {
   "codemirror_mode": "text/x-scala",
   "file_extension": ".scala",
   "mimetype": "text/x-scala",
   "name": "scala211",
   "nbconvert_exporter": "script",
   "pygments_lexer": "scala",
   "version": "2.11.11"
  }
 },
 "nbformat": 4,
 "nbformat_minor": 1
}
